{
 "cells": [
  {
   "cell_type": "markdown",
   "metadata": {},
   "source": [
    "# Text Clustering using Enron Emails with K-Means \n",
    "\n",
    "This is an example of using K-Means clustering for clustering a text dataset of email content. This uses some data pre-processing steps from the Kaggle forum and builds upon to vectorize and perform K-Means and MiniBatch K-Means clustering using python and scikit-learn. \n",
    "\n",
    "I used the Silhouette score to help identify the best k clusters and it came up with 4 clusters. Originally I started with 2 clusters, this should be modified in the code. While running this it's important to note the K-Means model trains very slow, while testing and making iterations it's much quicker to use the more scalable minibatch on the dataset. Aside from subsetting the data I am not aware of methods to speed performance up on the sklearn k-means model. I also ran into an issue using the Silhouette score method, by default this would always run out of memory on my pcs. To work around this I used a sample which doesn't seem to have a large affect based on size. Further analysis could include viewing the top tokens from each of the clusters and looking into what categories or types of content they are associating with. "
   ]
  },
  {
   "cell_type": "code",
   "execution_count": 1,
   "metadata": {
    "collapsed": true
   },
   "outputs": [],
   "source": [
    "import pandas as pd\n",
    "import email\n",
    "import spacy\n",
    "import textacy\n",
    "from sklearn.feature_extraction.text import TfidfVectorizer, CountVectorizer\n",
    "from sklearn.cluster import KMeans, MiniBatchKMeans\n",
    "from sklearn.metrics import silhouette_score\n",
    "import sklearn\n",
    "import mglearn\n",
    "\n",
    "import matplotlib.pyplot as plt\n",
    "%matplotlib inline\n",
    "\n",
    "nlp = spacy.load('en')  # spacy english model"
   ]
  },
  {
   "cell_type": "code",
   "execution_count": 2,
   "metadata": {},
   "outputs": [
    {
     "name": "stdout",
     "output_type": "stream",
     "text": [
      "Message-ID: <18782981.1075855378110.JavaMail.evans@thyme>\n",
      "Date: Mon, 14 May 2001 16:39:00 -0700 (PDT)\n",
      "From: phillip.allen@enron.com\n",
      "To: tim.belden@enron.com\n",
      "Subject: \n",
      "Mime-Version: 1.0\n",
      "Content-Type: text/plain; charset=us-ascii\n",
      "Content-Transfer-Encoding: 7bit\n",
      "X-From: Phillip K Allen\n",
      "X-To: Tim Belden <Tim Belden/Enron@EnronXGate>\n",
      "X-cc: \n",
      "X-bcc: \n",
      "X-Folder: \\Phillip_Allen_Jan2002_1\\Allen, Phillip K.\\'Sent Mail\n",
      "X-Origin: Allen-P\n",
      "X-FileName: pallen (Non-Privileged).pst\n",
      "\n",
      "Here is our forecast\n",
      "\n",
      " \n"
     ]
    }
   ],
   "source": [
    "# Read in the dataset\n",
    "df = pd.read_csv('../data/emails.csv')\n",
    "print(df.iloc[0]['message'])  # Print what the data contains"
   ]
  },
  {
   "cell_type": "markdown",
   "metadata": {},
   "source": [
    "## Data Parsing and Cleaning "
   ]
  },
  {
   "cell_type": "code",
   "execution_count": 3,
   "metadata": {},
   "outputs": [
    {
     "data": {
      "text/html": [
       "<div>\n",
       "<table border=\"1\" class=\"dataframe\">\n",
       "  <thead>\n",
       "    <tr style=\"text-align: right;\">\n",
       "      <th></th>\n",
       "      <th>file</th>\n",
       "      <th>Message-ID</th>\n",
       "      <th>Date</th>\n",
       "      <th>From</th>\n",
       "      <th>To</th>\n",
       "      <th>Subject</th>\n",
       "      <th>Mime-Version</th>\n",
       "      <th>Content-Type</th>\n",
       "      <th>Content-Transfer-Encoding</th>\n",
       "      <th>X-From</th>\n",
       "      <th>X-To</th>\n",
       "      <th>X-cc</th>\n",
       "      <th>X-bcc</th>\n",
       "      <th>X-Folder</th>\n",
       "      <th>X-Origin</th>\n",
       "      <th>X-FileName</th>\n",
       "      <th>content</th>\n",
       "      <th>user</th>\n",
       "    </tr>\n",
       "  </thead>\n",
       "  <tbody>\n",
       "    <tr>\n",
       "      <th>0</th>\n",
       "      <td>allen-p/_sent_mail/1.</td>\n",
       "      <td>&lt;18782981.1075855378110.JavaMail.evans@thyme&gt;</td>\n",
       "      <td>Mon, 14 May 2001 16:39:00 -0700 (PDT)</td>\n",
       "      <td>(phillip.allen@enron.com)</td>\n",
       "      <td>(tim.belden@enron.com)</td>\n",
       "      <td></td>\n",
       "      <td>1.0</td>\n",
       "      <td>text/plain; charset=us-ascii</td>\n",
       "      <td>7bit</td>\n",
       "      <td>Phillip K Allen</td>\n",
       "      <td>Tim Belden &lt;Tim Belden/Enron@EnronXGate&gt;</td>\n",
       "      <td></td>\n",
       "      <td></td>\n",
       "      <td>\\Phillip_Allen_Jan2002_1\\Allen, Phillip K.\\'Se...</td>\n",
       "      <td>Allen-P</td>\n",
       "      <td>pallen (Non-Privileged).pst</td>\n",
       "      <td>Here is our forecast\\n\\n</td>\n",
       "      <td>allen-p</td>\n",
       "    </tr>\n",
       "    <tr>\n",
       "      <th>1</th>\n",
       "      <td>allen-p/_sent_mail/10.</td>\n",
       "      <td>&lt;15464986.1075855378456.JavaMail.evans@thyme&gt;</td>\n",
       "      <td>Fri, 4 May 2001 13:51:00 -0700 (PDT)</td>\n",
       "      <td>(phillip.allen@enron.com)</td>\n",
       "      <td>(john.lavorato@enron.com)</td>\n",
       "      <td>Re:</td>\n",
       "      <td>1.0</td>\n",
       "      <td>text/plain; charset=us-ascii</td>\n",
       "      <td>7bit</td>\n",
       "      <td>Phillip K Allen</td>\n",
       "      <td>John J Lavorato &lt;John J Lavorato/ENRON@enronXg...</td>\n",
       "      <td></td>\n",
       "      <td></td>\n",
       "      <td>\\Phillip_Allen_Jan2002_1\\Allen, Phillip K.\\'Se...</td>\n",
       "      <td>Allen-P</td>\n",
       "      <td>pallen (Non-Privileged).pst</td>\n",
       "      <td>Traveling to have a business meeting takes the...</td>\n",
       "      <td>allen-p</td>\n",
       "    </tr>\n",
       "  </tbody>\n",
       "</table>\n",
       "</div>"
      ],
      "text/plain": [
       "                     file                                     Message-ID  \\\n",
       "0   allen-p/_sent_mail/1.  <18782981.1075855378110.JavaMail.evans@thyme>   \n",
       "1  allen-p/_sent_mail/10.  <15464986.1075855378456.JavaMail.evans@thyme>   \n",
       "\n",
       "                                    Date                       From  \\\n",
       "0  Mon, 14 May 2001 16:39:00 -0700 (PDT)  (phillip.allen@enron.com)   \n",
       "1   Fri, 4 May 2001 13:51:00 -0700 (PDT)  (phillip.allen@enron.com)   \n",
       "\n",
       "                          To Subject Mime-Version  \\\n",
       "0     (tim.belden@enron.com)                  1.0   \n",
       "1  (john.lavorato@enron.com)     Re:          1.0   \n",
       "\n",
       "                   Content-Type Content-Transfer-Encoding           X-From  \\\n",
       "0  text/plain; charset=us-ascii                      7bit  Phillip K Allen   \n",
       "1  text/plain; charset=us-ascii                      7bit  Phillip K Allen   \n",
       "\n",
       "                                                X-To X-cc X-bcc  \\\n",
       "0           Tim Belden <Tim Belden/Enron@EnronXGate>              \n",
       "1  John J Lavorato <John J Lavorato/ENRON@enronXg...              \n",
       "\n",
       "                                            X-Folder X-Origin  \\\n",
       "0  \\Phillip_Allen_Jan2002_1\\Allen, Phillip K.\\'Se...  Allen-P   \n",
       "1  \\Phillip_Allen_Jan2002_1\\Allen, Phillip K.\\'Se...  Allen-P   \n",
       "\n",
       "                    X-FileName  \\\n",
       "0  pallen (Non-Privileged).pst   \n",
       "1  pallen (Non-Privileged).pst   \n",
       "\n",
       "                                             content     user  \n",
       "0                          Here is our forecast\\n\\n   allen-p  \n",
       "1  Traveling to have a business meeting takes the...  allen-p  "
      ]
     },
     "execution_count": 3,
     "metadata": {},
     "output_type": "execute_result"
    }
   ],
   "source": [
    "'''\n",
    "Data parsing and loading functions based from Zichen -- thank you for sharing your exploration!\n",
    "Using this to better keep the information if we want it later it's easier to process. \n",
    "https://www.kaggle.com/zichen/explore-enron\n",
    "'''\n",
    "def get_text_from_email(msg):\n",
    "    '''To get the content from email objects'''\n",
    "    parts = []\n",
    "    for part in msg.walk():\n",
    "        if part.get_content_type() == 'text/plain':\n",
    "            parts.append( part.get_payload() )\n",
    "    return ''.join(parts)\n",
    "\n",
    "def split_email_addresses(line):\n",
    "    '''To separate multiple email addresses'''\n",
    "    if line:\n",
    "        addrs = line.split(',')\n",
    "        addrs = frozenset(map(lambda x: x.strip(), addrs))\n",
    "    else:\n",
    "        addrs = None\n",
    "    return addrs\n",
    "\n",
    "# Parse the emails into a list email objects\n",
    "messages = list(map(email.message_from_string, df['message']))\n",
    "df.drop('message', axis=1, inplace=True)\n",
    "# Get fields from parsed email objects\n",
    "keys = messages[0].keys()\n",
    "for key in keys:\n",
    "    df[key] = [doc[key] for doc in messages]\n",
    "# Parse content from emails\n",
    "df['content'] = list(map(get_text_from_email, messages))\n",
    "# Split multiple email addresses\n",
    "df['From'] = df['From'].map(split_email_addresses)\n",
    "df['To'] = df['To'].map(split_email_addresses)\n",
    "\n",
    "# Extract the root of 'file' as 'user'\n",
    "df['user'] = df['file'].map(lambda x:x.split('/')[0])\n",
    "del messages\n",
    "\n",
    "df.head(2)  # print example"
   ]
  },
  {
   "cell_type": "code",
   "execution_count": 4,
   "metadata": {
    "collapsed": true
   },
   "outputs": [],
   "source": [
    "def clean_preprocess(doc):\n",
    "    \"\"\" Function to clean and run the text pre-processing steps.\n",
    "    1. Lowercase\n",
    "    2. Punctuation\n",
    "    3. Stopwords\n",
    "    :param doc: string\n",
    "    :returns: text\n",
    "    \"\"\"\n",
    "    # Lowercase -- can be done in spacy doc object as doc.lower_\n",
    "    doc = doc.lower()\n",
    "    \n",
    "    # Punctuation\n",
    "    doc = textacy.preprocess.remove_punct(doc)\n",
    "    \n",
    "    # Stopwords (using spacy stopwords)\n",
    "    doc = [w for w in doc.split(' ') if not w in spacy.en.STOP_WORDS]\n",
    "    \n",
    "    # Custom stopwords to remove\n",
    "    rm = ['-PRON-']\n",
    "    doc = [w for w in doc if not w in rm]\n",
    "    \n",
    "    string = ' '.join(doc).replace('\\n\\n',' ').replace('\\n', ' ')\n",
    "    return string\n",
    "\n",
    "# Apply function to df \n",
    "df['processed_content'] = df.content.apply(clean_preprocess)"
   ]
  },
  {
   "cell_type": "markdown",
   "metadata": {},
   "source": [
    "## Vectorize Text"
   ]
  },
  {
   "cell_type": "code",
   "execution_count": 6,
   "metadata": {},
   "outputs": [],
   "source": [
    "tfidf_vector = TfidfVectorizer(max_df=0.5, min_df=2, stop_words='english')\n",
    "x_data = tfidf_vector.fit_transform(df['processed_content'])"
   ]
  },
  {
   "cell_type": "code",
   "execution_count": 9,
   "metadata": {},
   "outputs": [
    {
     "data": {
      "text/plain": [
       "'zuch'"
      ]
     },
     "execution_count": 9,
     "metadata": {},
     "output_type": "execute_result"
    }
   ],
   "source": [
    "tfidf_vector.get_feature_names()[-588]"
   ]
  },
  {
   "cell_type": "markdown",
   "metadata": {},
   "source": [
    "## K-Means Clustering"
   ]
  },
  {
   "cell_type": "code",
   "execution_count": null,
   "metadata": {
    "collapsed": true
   },
   "outputs": [],
   "source": [
    "clf = KMeans(n_clusters=4)\n",
    "labels = clf.fit(x_data)"
   ]
  },
  {
   "cell_type": "code",
   "execution_count": 10,
   "metadata": {
    "collapsed": true
   },
   "outputs": [],
   "source": [
    "# Pickle model\n",
    "#sklearn.externals.joblib.dump(labels, 'kmeans.pkl')\n",
    "\n",
    "# Load model\n",
    "labels = sklearn.externals.joblib.load('kmeans.pkl')"
   ]
  },
  {
   "cell_type": "code",
   "execution_count": 12,
   "metadata": {},
   "outputs": [
    {
     "name": "stdout",
     "output_type": "stream",
     "text": [
      "[1 1 1 1 1 1 1 1 1 1 1 1 0 1 1 1 1 1 1 1 1 1 1 1 1 1 1 1 1 1 1 1 1 1 1 1 1\n",
      " 1 1 1]\n"
     ]
    }
   ],
   "source": [
    "# Cluster memberships\n",
    "print(labels.labels_[60:100])"
   ]
  },
  {
   "cell_type": "code",
   "execution_count": 13,
   "metadata": {},
   "outputs": [
    {
     "data": {
      "text/plain": [
       "517401"
      ]
     },
     "execution_count": 13,
     "metadata": {},
     "output_type": "execute_result"
    }
   ],
   "source": [
    "len(labels.labels_)"
   ]
  },
  {
   "cell_type": "markdown",
   "metadata": {},
   "source": [
    "## Minibatch K-Means"
   ]
  },
  {
   "cell_type": "code",
   "execution_count": 14,
   "metadata": {},
   "outputs": [
    {
     "name": "stdout",
     "output_type": "stream",
     "text": [
      "CPU times: user 54.9 s, sys: 3.96 s, total: 58.9 s\n",
      "Wall time: 60 s\n"
     ]
    }
   ],
   "source": [
    "clf_mb = MiniBatchKMeans(n_clusters=4)\n",
    "%time mb_labels = clf_mb.fit(x_data)"
   ]
  },
  {
   "cell_type": "markdown",
   "metadata": {},
   "source": [
    "## Top Terms per cluster\n",
    "\n",
    "Using something like these top cluster terms is a good way to shed light into the individual clusters. This could help with identifying topics or logical groupings."
   ]
  },
  {
   "cell_type": "code",
   "execution_count": 15,
   "metadata": {
    "collapsed": true
   },
   "outputs": [],
   "source": [
    "vocab_frame = pd.DataFrame({'words': tfidf_vector.get_feature_names()[:]}, \n",
    "                           index = tfidf_vector.get_feature_names()[:])"
   ]
  },
  {
   "cell_type": "code",
   "execution_count": 17,
   "metadata": {},
   "outputs": [
    {
     "name": "stdout",
     "output_type": "stream",
     "text": [
      "Cluster 0 words: b'message', b'original', b'sent', b'email', b'2001', b'subject', b'pm', b'intended', b'recipient', b'enron', b'october', b'thanks', b'monday', b'tuesday', b'november', b'cc', b'2002', b'wednesday', b'fw', b'thursday',\n",
      "Cluster 1 words: b'20', b'final', b'detected', b'variances', b'hour', b'hourahead', b'09', b'schedulingiso', b'oportlandwestdeskcalifornia', b'parsing', b'ancillary', b'awarded', b'schedules', b'log', b'messages', b'schedule', b'start', b'date', b'file', b'enron',\n",
      "Cluster 2 words: b'1400', b'77002', b'7136463490', b'smith', b'eb', b'street', b'texas', b'america', b'perlingiere', b'debra', b'north', b'7138537658', b'3885', b'fax', b'houston', b'corp', b'dperlinenroncom', b'phone', b'enron', b'legal',\n",
      "Cluster 3 words: b'thanks', b'enron', b'pm', b'subject', b'cc', b'know', b'attached', b'time', b'let', b'new', b'need', b'email', b'meeting', b'power', b'gas', b'forwarded', b'energy', b'deal', b'like', b'questions',\n"
     ]
    }
   ],
   "source": [
    "order_centroids = clf_mb.cluster_centers_.argsort()[:, ::-1] \n",
    "\n",
    "for i in range(4):\n",
    "    print(\"Cluster %d words:\" % i, end='')\n",
    "    \n",
    "    for ind in order_centroids[i, :20]: #replace 6 with n words per cluster\n",
    "        print(' %s' % vocab_frame.ix[tfidf_vector.get_feature_names()[ind].split(' ')].values.tolist()[0][0].encode('utf-8', 'ignore'), end=',')\n",
    "    print('') "
   ]
  },
  {
   "cell_type": "markdown",
   "metadata": {},
   "source": [
    "## Finding K Clusters\n",
    "\n",
    "Using MiniBatch K-Means on the full dataset since K-means takes a long time with this data. These can be swapped out very easily if needed. When the Silhouette score is higher the clusters are the clearest. This is found around 4 clusters seen in the plot below. "
   ]
  },
  {
   "cell_type": "code",
   "execution_count": 21,
   "metadata": {},
   "outputs": [],
   "source": [
    "sil_scores = []\n",
    "\n",
    "for n_clusters in range(2,9):\n",
    "    k_mini = MiniBatchKMeans(n_clusters=n_clusters)\n",
    "    k_mini.fit(x_data)\n",
    "    \n",
    "    labels = k_mini.labels_\n",
    "    centr = k_mini.cluster_centers_\n",
    "    # Need to use smaller sample size -- runs out of memory and crashes kernel\n",
    "    sil_scores.append(silhouette_score(x_data, labels, metric='euclidean', sample_size=2000))  #"
   ]
  },
  {
   "cell_type": "code",
   "execution_count": 22,
   "metadata": {},
   "outputs": [
    {
     "data": {
      "image/png": "[encoded data removed]",
      "text/plain": [
       "<matplotlib.figure.Figure at 0x15c5045c0>"
      ]
     },
     "metadata": {},
     "output_type": "display_data"
    }
   ],
   "source": [
    "plt.plot(sil_scores)\n",
    "plt.title('Silhouette Scores')\n",
    "plt.ylabel('Silhouette')\n",
    "plt.xlabel('K Clusters')\n",
    "plt.show()"
   ]
  },
  {
   "cell_type": "markdown",
   "metadata": {
    "collapsed": true
   },
   "source": [
    "## Resources\n",
    "\n",
    "http://scikit-learn.org/stable/auto_examples/text/document_clustering.html\n",
    "\n",
    "http://scikit-learn.org/stable/auto_examples/text/document_clustering.html#sphx-glr-auto-examples-text-document-clustering-py\n",
    "\n",
    "http://scikit-learn.org/stable/auto_examples/cluster/plot_kmeans_digits.html#sphx-glr-auto-examples-cluster-plot-kmeans-digits-py\n",
    "\n",
    "http://brandonrose.org/clustering\n",
    "\n",
    "https://jakevdp.github.io/PythonDataScienceHandbook/05.11-k-means.html\n",
    "\n",
    "https://www.kaggle.com/jaykrishna/topic-modeling-enron-email-dataset\n",
    "\n",
    "http://scikit-learn.org/stable/modules/generated/sklearn.cluster.MiniBatchKMeans.html\n",
    "\n",
    "http://scikit-learn.org/stable/auto_examples/cluster/plot_kmeans_silhouette_analysis.html\n",
    "\n",
    "https://datascience.stackexchange.com/questions/6508/k-means-incoherent-behaviour-choosing-k-with-elbow-method-bic-variance-explain\n",
    "\n",
    "https://www.youtube.com/watch?v=vgmL808eSw4"
   ]
  }
 ],
 "metadata": {
  "kernelspec": {
   "display_name": "Python 3",
   "language": "python",
   "name": "python3"
  },
  "language_info": {
   "codemirror_mode": {
    "name": "ipython",
    "version": 3
   },
   "file_extension": ".py",
   "mimetype": "text/x-python",
   "name": "python",
   "nbconvert_exporter": "python",
   "pygments_lexer": "ipython3",
   "version": "3.6.0"
  }
 },
 "nbformat": 4,
 "nbformat_minor": 1
}

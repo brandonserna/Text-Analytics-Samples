{
 "cells": [
  {
   "cell_type": "markdown",
   "metadata": {},
   "source": [
    "# Sentiment Analysis with Yelp Reviews\n",
    "\n",
    "This dataset comes from the Yelp Dataset Challenge for NLP and sentiment analysis. I chose to create a classifier trained using the ACL IMDB movie review dataset for it's high quality, large amount of training examples and it's similar to what a user may write for a Yelp review. \n",
    "\n",
    "Training data: Large Movie Review Dataset http://ai.stanford.edu/~amaas/data/sentiment/"
   ]
  },
  {
   "cell_type": "code",
   "execution_count": 1,
   "metadata": {},
   "outputs": [
    {
     "name": "stderr",
     "output_type": "stream",
     "text": [
      "/Users/brandon/anaconda/envs/py36/lib/python3.6/site-packages/sklearn/cross_validation.py:44: DeprecationWarning: This module was deprecated in version 0.18 in favor of the model_selection module into which all the refactored classes and functions are moved. Also note that the interface of the new CV iterators are different from that of this module. This module will be removed in 0.20.\n",
      "  \"This module will be removed in 0.20.\", DeprecationWarning)\n",
      "/Users/brandon/anaconda/envs/py36/lib/python3.6/site-packages/sklearn/grid_search.py:43: DeprecationWarning: This module was deprecated in version 0.18 in favor of the model_selection module into which all the refactored classes and functions are moved. This module will be removed in 0.20.\n",
      "  DeprecationWarning)\n"
     ]
    }
   ],
   "source": [
    "import pandas as pd\n",
    "import numpy as np\n",
    "import mglearn\n",
    "import json\n",
    "from collections import Counter\n",
    "from sklearn.datasets import load_files\n",
    "from sklearn.feature_extraction.text import CountVectorizer, TfidfVectorizer\n",
    "from sklearn.linear_model import LogisticRegression\n",
    "from sklearn.pipeline import make_pipeline\n",
    "from sklearn.grid_search import GridSearchCV\n",
    "from spacy.en import STOP_WORDS\n",
    "import matplotlib.pyplot as plt\n",
    "\n",
    "%matplotlib inline"
   ]
  },
  {
   "cell_type": "markdown",
   "metadata": {},
   "source": [
    "### Training a Classifier using the Large Movie Review Data\n",
    "\n",
    "For now I'll use a logistic regression model since the performance seems good enough based on the grid search results. If we are looking for better performance it might be good to test other classfiers."
   ]
  },
  {
   "cell_type": "code",
   "execution_count": 2,
   "metadata": {},
   "outputs": [
    {
     "name": "stdout",
     "output_type": "stream",
     "text": [
      "Top CV score: 0.89392\n"
     ]
    }
   ],
   "source": [
    "# Training data loading\n",
    "reviews_train = load_files('~/data/aclImdb/train/')\n",
    "text_train, y_train = reviews_train.data, reviews_train.target\n",
    "\n",
    "reviews_test = load_files('~/data/aclImdb/test/')\n",
    "text_test, y_test = reviews_test.data, reviews_test.target\n",
    "\n",
    "# Clean some of the HTML \n",
    "text_train = [doc.replace(b'<br />', b\" \") for doc in text_train]\n",
    "text_test = [doc.replace(b'<br />', b\" \") for doc in text_test]\n",
    "\n",
    "# Bag of words would use the countvectorizer method\n",
    "# vect = CountVectorizer().fit(text_train)\n",
    "# X_train = vect.transform(text_train)\n",
    "\n",
    "# Sample of training \n",
    "# model = LogisticRegression()\n",
    "# model.fit(X_train, y_train)\n",
    "\n",
    "# Tf-idf and grid search for runing the logistic regression model\n",
    "pipeline = make_pipeline(TfidfVectorizer(min_df=5, norm=None), LogisticRegression())\n",
    "parameters = {'logisticregression__C': [.001, .01, .1, 1, 10]}  # grid search\n",
    "\n",
    "grid = GridSearchCV(pipeline, parameters, cv=5, n_jobs=-1)\n",
    "grid.fit(text_train, y_train)\n",
    "\n",
    "print('Top CV score: %s' % grid.best_score_)"
   ]
  },
  {
   "cell_type": "markdown",
   "metadata": {},
   "source": [
    "### Yelp Dataset\n",
    "\n",
    "Our goal here is to leverage the model trained from movie reviews to identify the sentiment of the Yelp reviews. The data provided by Yelp has these 9 features: business_id, cool, date, funny, review_id, stars, text and useful. We will assign the text reviews from the text feature.\n",
    "\n",
    "After identifying the predicted sentiment labels I spot-checked a few examples and they were correctly labeled. Since the Yelp dataset doesn't contain labels we can't verify precisely how well the model classified the reviews. After looking over the results it's interesting to see the positive reviews outweigh the negative from the sample. I wasn't expecting this as users are usually more driven to spend the time to write reviews if they experienced issues rather than had great experiences. I feel that sentiment analysis can have a great affect on quantifying data like user reviews. It has a lot of potential to better understand customers, businesses and products as well as influence other systems with the information it finds."
   ]
  },
  {
   "cell_type": "code",
   "execution_count": 3,
   "metadata": {},
   "outputs": [
    {
     "name": "stdout",
     "output_type": "stream",
     "text": [
      "              business_id  cool        date  funny               review_id  \\\n",
      "0  uYHaNptLzDLoV_JZ_MuzUA     0  2016-07-12      0  VfBHSwC5Vz_pbFluy07i9Q   \n",
      "1  uYHaNptLzDLoV_JZ_MuzUA     0  2016-10-02      0  3zRpneRKDsOPq92tq7ybAA   \n",
      "2  uYHaNptLzDLoV_JZ_MuzUA     0  2015-09-17      0  ne5WhI1jUFOcRn-b-gAzHA   \n",
      "3  uYHaNptLzDLoV_JZ_MuzUA     0  2016-08-21      0  llmdwOgDReucVoWEry61Lw   \n",
      "4  uYHaNptLzDLoV_JZ_MuzUA     0  2013-11-20      0  DuffS87NaSMDmIfluvT83g   \n",
      "\n",
      "   stars                                               text  useful  \\\n",
      "0      5  My girlfriend and I stayed here for 3 nights a...       0   \n",
      "1      3  If you need an inexpensive place to stay for a...       0   \n",
      "2      3  Mittlerweile gibt es in Edinburgh zwei Ableger...       0   \n",
      "3      4  Location is everything and this hotel has it! ...       0   \n",
      "4      5  gute lage im stadtzentrum. shoppingmeile und s...       0   \n",
      "\n",
      "                  user_id  \n",
      "0  cjpdDjZyprfyDG3RlkVG3w  \n",
      "1  bjTcT8Ty4cJZhEOEo01FGA  \n",
      "2  AXgRULmWcME7J6Ix3I--ww  \n",
      "3  oU2SSOmsp_A8JYI7Z2JJ5w  \n",
      "4  0xtbPEna2Kei11vsU-U2Mw  \n"
     ]
    }
   ],
   "source": [
    "# Parsing the json file provided by Yelp\n",
    "# Thank you - https://github.com/karenxiao/pandas-express\n",
    "l = []\n",
    "with open('../data/yelp-dataset/review.json', 'r') as f:\n",
    "    for line in f:\n",
    "        l.append(json.loads(line.rstrip()))\n",
    "        \n",
    "yelp_df = pd.DataFrame.from_dict(l)\n",
    "reviews = yelp_df['text']\n",
    "print(yelp_df.head(5))"
   ]
  },
  {
   "cell_type": "markdown",
   "metadata": {},
   "source": [
    "### Predictions"
   ]
  },
  {
   "cell_type": "markdown",
   "metadata": {},
   "source": [
    "#### Comparing Samples\n",
    "\n",
    "To spotcheck how well the model did we can read a couple of passages where the we have a sample from positive and negative reviews. The first is a good example of a postive review. The review contains strong words that might indicate a positive passage like \"loved\", \"amazing\", \"incredible\" and \"excellent\". There was a few negative sections within the review but this should be positive after reading. The second passage is an example of a negative review. This contains potentially indicating words like \"no\", \"attitude\", \"awful\"."
   ]
  },
  {
   "cell_type": "code",
   "execution_count": 4,
   "metadata": {},
   "outputs": [
    {
     "name": "stdout",
     "output_type": "stream",
     "text": [
      "'My girlfriend and I stayed here for 3 nights and loved it. The location of this hotel and very decent price makes this an amazing deal. When you walk out the front door Scott Monument and Princes street are right in front of you, Edinburgh Castle and the Royal Mile is a 2 minute walk via a close right around the corner, and there are so many hidden gems nearby including Calton Hill and the newly opened Arches that made this location incredible.\\n\\nThe hotel itself was also very nice with a reasonably priced bar, very considerate staff, and small but comfortable rooms with excellent bathrooms and showers. Only two minor complaints are no telephones in room for room service (not a huge deal for us) and no AC in the room, but they have huge windows which can be fully opened. The staff were incredible though, letting us borrow umbrellas for the rain, giving us maps and directions, and also when we had lost our only UK adapter for charging our phones gave us a very fancy one for free.\\n\\nI would highly recommend this hotel to friends, and when I return to Edinburgh (which I most definitely will) I will be staying here without any hesitation.' \n",
      ">>> 1\n",
      "\n",
      "\"If you need an inexpensive place to stay for a night or two then you may consider this place but for a longer stay I'd recommend somewhere with better amenities. \\n\\nPros:\\nGreat location- you're right by the train station, central location to get to old town and new town, and right by sight seeing his tours. Food, bars, and shopping all within walking distance. Location, location, location.\\nVery clean and very good maid service\\n\\nCons:\\nTiny rooms \\nUncomfortable bed \\nAbsolutely no amenities \\nNo phone in room \\nNo wardrobe \\n\\nWas given a lot of attitude about me and my husband sharing a room which was quite strange and we were charged 15 pounds more for double occupancy not sure why that matters I felt like it was a money grab. It was just handled in a kind of odd manner to me... \\n\\nIf you book this hotel all you get is a bed, desk, and a bathroom. It isn't awful but know what you're getting into.\" \n",
      ">>> 0\n",
      "\n"
     ]
    }
   ],
   "source": [
    "collection = [reviews[0], reviews[1]]\n",
    "p = grid.predict(collection)\n",
    "\n",
    "for d, pred in zip(collection, p):\n",
    "    print('%r \\n>>> %s' % (d, pred))\n",
    "    print()"
   ]
  },
  {
   "cell_type": "markdown",
   "metadata": {},
   "source": [
    "#### Word Frequencies\n",
    "\n",
    "Another method that could shed additional insight could be word frequencies from common words found in sentiment analysis lexicons. Unfortunitely when I was spot-checking some samples, most were moderately short texts that didn't have many overlapping words aside from common stop words. "
   ]
  },
  {
   "cell_type": "code",
   "execution_count": 10,
   "metadata": {},
   "outputs": [
    {
     "name": "stdout",
     "output_type": "stream",
     "text": [
      "[('If', 2), ('place', 2), ('stay', 2), (\"you're\", 2), ('right', 2), ('No', 2), ('room', 2), ('It', 2), ('need', 1), ('inexpensive', 1)]\n",
      "\n",
      "would\n",
      "recommend\n",
      "----\n"
     ]
    }
   ],
   "source": [
    "test = [w for w in reviews[1].split() if w not in STOP_WORDS]\n",
    "feature_names = np.array(top_vectorizer.get_feature_names())\n",
    "print(Counter(test).most_common(10))\n",
    "\n",
    "print()\n",
    "for word in reviews[0].split():\n",
    "    if word in feature_names[sorted_by_tfidf[-20:]]:\n",
    "        print(word)\n",
    "        \n",
    "print('----')\n",
    "for word in reviews[0].split():\n",
    "    if word in feature_names[sorted_by_tfidf[:20]]:\n",
    "        print(word)"
   ]
  },
  {
   "cell_type": "markdown",
   "metadata": {},
   "source": [
    "### Exploring the model\n",
    "\n",
    "We can use tfidf scaling to help find words that distinguish the sentiment. Some of the negative words were \"worst\", \"waste\", \"awful\" and \"bad\"; while some of the positive words were \"great\", \"excellent\", \"perfect\" and \"best\"."
   ]
  },
  {
   "cell_type": "code",
   "execution_count": 7,
   "metadata": {},
   "outputs": [
    {
     "name": "stdout",
     "output_type": "stream",
     "text": [
      "Lowest tfidf features: ['briers' 'lanchester' 'redgrave' 'blore' 'svenson' 'inarritu' 'lamour'\n",
      " 'sweetin' 'sweid' 'swinton']\n",
      "Highest tfidf features: ['tint' 'would' 'ribs' 'recommend' 'go' 'waited' 'yum' 'gas' 'salty' 'ozzy']\n"
     ]
    },
    {
     "data": {
      "image/png": "[encoded data removed]",
      "text/plain": [
       "<matplotlib.figure.Figure at 0x299beb9e8>"
      ]
     },
     "metadata": {},
     "output_type": "display_data"
    }
   ],
   "source": [
    "top_vectorizer = grid.best_estimator_.named_steps['tfidfvectorizer']\n",
    "\n",
    "# yelp data\n",
    "x_train = top_vectorizer.transform(yelp_df['text'])\n",
    "# max value for each feature\n",
    "max_v = x_train.max(axis=0).toarray().ravel()\n",
    "sorted_by_tfidf = max_v.argsort()\n",
    "\n",
    "feature_names = np.array(top_vectorizer.get_feature_names())\n",
    "\n",
    "print('Lowest tfidf features: %s' % feature_names[sorted_by_tfidf[:10]])\n",
    "print('Highest tfidf features: %s' % feature_names[sorted_by_tfidf[-10:]])\n",
    "\n",
    "# Visualization using the mglearn package\n",
    "mglearn.tools.visualize_coefficients(grid.best_estimator_.named_steps['logisticregression'].coef_,\n",
    "                                    feature_names, n_top_features=20)"
   ]
  },
  {
   "cell_type": "code",
   "execution_count": 8,
   "metadata": {},
   "outputs": [],
   "source": [
    "# Predict sentiment for all yelp reviews, add sentiment feature\n",
    "yelp_df['sentiment'] = grid.predict(yelp_df['text'])"
   ]
  },
  {
   "cell_type": "code",
   "execution_count": 9,
   "metadata": {},
   "outputs": [
    {
     "name": "stdout",
     "output_type": "stream",
     "text": [
      "1 = POSITIVE\n",
      "0 = NEGATIVE\n"
     ]
    },
    {
     "data": {
      "image/png": "[encoded data removed]",
      "text/plain": [
       "<matplotlib.figure.Figure at 0x299beaba8>"
      ]
     },
     "metadata": {},
     "output_type": "display_data"
    }
   ],
   "source": [
    "# Plot distribution of predicted review sentiment\n",
    "yelp_df['sentiment'].value_counts().plot(kind='bar', \n",
    "                                         title='Sentiment Analysis for Yelp Reviews')\n",
    "\n",
    "print('1 = POSITIVE\\n0 = NEGATIVE')"
   ]
  },
  {
   "cell_type": "markdown",
   "metadata": {},
   "source": [
    "### Resources\n",
    "\n",
    "http://scikit-learn.org/stable/tutorial/text_analytics/working_with_text_data.html\n",
    "\n",
    "Intro to Machine Learning with Python\n",
    "\n",
    "https://github.com/karenxiao/pandas-express\n",
    "    \n",
    "https://www.yelp.com/dataset/\n",
    "\n"
   ]
  }
 ],
 "metadata": {
  "kernelspec": {
   "display_name": "Python 3",
   "language": "python",
   "name": "python3"
  },
  "language_info": {
   "codemirror_mode": {
    "name": "ipython",
    "version": 3
   },
   "file_extension": ".py",
   "mimetype": "text/x-python",
   "name": "python",
   "nbconvert_exporter": "python",
   "pygments_lexer": "ipython3",
   "version": "3.6.0"
  }
 },
 "nbformat": 4,
 "nbformat_minor": 1
}
